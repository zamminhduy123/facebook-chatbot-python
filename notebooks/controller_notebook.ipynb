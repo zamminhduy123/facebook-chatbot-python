{
 "cells": [
  {
   "cell_type": "code",
   "execution_count": 1,
   "metadata": {},
   "outputs": [
    {
     "name": "stdout",
     "output_type": "stream",
     "text": [
      "[SessionController] __init__ called, debug_id = 0a474039-20bd-4285-a116-cbc85f4571ee time = 2025-06-11 18:26:59.553673\n"
     ]
    }
   ],
   "source": [
    "import pprint\n",
    "###\n",
    "import os\n",
    "from typing import Dict, List\n",
    "\n",
    "from dotenv import load_dotenv\n",
    "from google import genai\n",
    "from google.genai import types as genai_types\n",
    "from google.genai.chats import Chat\n",
    "\n",
    "from controller.SessionController import SessionController\n",
    "from controller.utils.chat import clean_message\n",
    "from gemini_prompt import DEFAULT_RESPONSE, BotMessage, get_chat_config_json\n",
    "\n",
    "load_dotenv()\n",
    "API_KEY = os.getenv(\"GEMINI_API_KEY\")\n",
    "client = genai.Client(api_key=API_KEY)\n",
    "g_gemini_config = get_chat_config_json()\n",
    "g_gemini_config.model_dump(mode=\"python\", exclude_unset=True)\n",
    "\n",
    "chat_sessions = SessionController(client, default_gemini_config=g_gemini_config)"
   ]
  },
  {
   "cell_type": "code",
   "execution_count": 2,
   "metadata": {},
   "outputs": [],
   "source": [
    "# g_gemini_config.system_instruction=\"\"\n",
    "# g_gemini_config"
   ]
  },
  {
   "cell_type": "code",
   "execution_count": null,
   "metadata": {},
   "outputs": [],
   "source": [
    "from gemini_prompt import get_bot_message_defaults\n",
    "\n",
    "\n",
    "def get_gemini_response_with_context_json(\n",
    "    user_message: str,\n",
    "    context: str,\n",
    "    sender_id: str,\n",
    "    history: List[genai_types.Content] = None,\n",
    "    config: Dict = None,\n",
    ") -> BotMessage | None:\n",
    "    \"\"\"\n",
    "    Generates a Gemini response using additional context prepended to the user message.\n",
    "\n",
    "    :param user_message: The user's input to the chatbot.\n",
    "    :param context: Supplementary context to guide the model's response.\n",
    "    :param sender_id: Unique identifier used to retrieve or create a chat session.\n",
    "    :param history: Optional list of past messages (chat history) for context.\n",
    "    :param system_prompt: Optional instruction to condition the model's response\n",
    "        style or behavior, this will override the configuration of the chat session.\n",
    "    :return: The model's generated text reply, or a fallback message on error.\n",
    "    \"\"\"\n",
    "    message = f'Context: \"\"\"{context}\"\"\"\\n\\n{user_message}'\n",
    "    return get_gemini_response_json(message, sender_id, history, config)\n",
    "\n",
    "\n",
    "def get_gemini_response_json(\n",
    "    user_message: str,\n",
    "    sender_id: str,\n",
    "    history: List[genai_types.Content] = None,\n",
    "    config: Dict = None,\n",
    ") -> BotMessage | None:\n",
    "    \"\"\"\n",
    "    Generates a Gemini response based on the user message and optional session data.\n",
    "\n",
    "    :param user_message: The user's input to the chatbot.\n",
    "    :param sender_id: Unique identifier used to retrieve or create a chat session.\n",
    "    :param history: Optional list of past messages (chat history) for context.\n",
    "    :param system_prompt: Optional instruction to condition the model's response\n",
    "        style or behavior, this will override the configuration of the chat session.\n",
    "    :return: The model's generated text reply, or a fallback message on error.\n",
    "    \"\"\"\n",
    "    # actually generate response:\n",
    "    try:\n",
    "        chat_session = chat_sessions.get_session(sender_id, history)\n",
    "        if chat_session == None:\n",
    "            return None\n",
    "\n",
    "        if config:\n",
    "            config = genai_types.GenerateContentConfig(**config)\n",
    "\n",
    "        chat: Chat = chat_session[\"chat\"]  # type: ignore\n",
    "        _response = chat.send_message(user_message, config=config)\n",
    "\n",
    "        response = get_bot_message_defaults()\n",
    "        response.message = clean_message(_response.text)\n",
    "        if _response.parsed:\n",
    "            response: BotMessage = _response.parsed\n",
    "            response.message = clean_message(response.message)\n",
    "        return response  # type: ignore\n",
    "    except Exception as e:\n",
    "        print(\"Gemini error:\", e)\n",
    "        response = get_bot_message_defaults()\n",
    "        response.message = DEFAULT_RESPONSE\n",
    "        return response"
   ]
  },
  {
   "cell_type": "code",
   "execution_count": 4,
   "metadata": {},
   "outputs": [
    {
     "name": "stdout",
     "output_type": "stream",
     "text": [
      "[Session Controller] create new session for 0\n",
      "[Session Controller] Sorted & Deleted: {}\n",
      "Gemini error: 'GenerateContentResponse' object has no attribute 'message'\n"
     ]
    },
    {
     "data": {
      "text/plain": [
       "BotMessage(message='Xin lỗi, mình chưa có thông tin về vấn đề này. Bạn vui lòng liên hệ trực tiếp với KNI qua số điện thoại +84 091-839-1099 hoặc email nhat@kni.vn để được hỗ trợ tốt nhất nhé! 😳', image_send_threshold=0.0, image_urls=[], customer_name='', customer_phone_number='', customer_home_address='', customer_potential=0.0)"
      ]
     },
     "execution_count": 4,
     "metadata": {},
     "output_type": "execute_result"
    }
   ],
   "source": [
    "user_id = \"0\"\n",
    "user_message = \"chào anh, em muốn mua 1 máy instax mini 11 ạ\"\n",
    "bot_response = get_gemini_response_json(\n",
    "    user_message=user_message,\n",
    "    sender_id=user_id,\n",
    ")\n",
    "\n",
    "bot_response"
   ]
  },
  {
   "cell_type": "code",
   "execution_count": 5,
   "metadata": {},
   "outputs": [
    {
     "name": "stdout",
     "output_type": "stream",
     "text": [
      "[Session Controller] get session for 0\n",
      "[Session Controller] Sorted & Deleted: {}\n",
      "Gemini error: 'GenerateContentResponse' object has no attribute 'message'\n"
     ]
    },
    {
     "data": {
      "text/plain": [
       "BotMessage(message='Xin lỗi, mình chưa có thông tin về vấn đề này. Bạn vui lòng liên hệ trực tiếp với KNI qua số điện thoại +84 091-839-1099 hoặc email nhat@kni.vn để được hỗ trợ tốt nhất nhé! 😳', image_send_threshold=0.0, image_urls=[], customer_name='', customer_phone_number='', customer_home_address='', customer_potential=0.0)"
      ]
     },
     "execution_count": 5,
     "metadata": {},
     "output_type": "execute_result"
    }
   ],
   "source": [
    "user_message = \"Cho em xin hình máy 11 với ạ\"\n",
    "bot_response = get_gemini_response_json(\n",
    "    user_message=user_message,\n",
    "    sender_id=user_id,\n",
    ")\n",
    "bot_response"
   ]
  },
  {
   "cell_type": "code",
   "execution_count": 6,
   "metadata": {},
   "outputs": [
    {
     "name": "stdout",
     "output_type": "stream",
     "text": [
      "[Session Controller] get session for 0\n",
      "[Session Controller] Sorted & Deleted: {}\n",
      "Gemini error: 'GenerateContentResponse' object has no attribute 'message'\n"
     ]
    },
    {
     "data": {
      "text/plain": [
       "BotMessage(message='Xin lỗi, mình chưa có thông tin về vấn đề này. Bạn vui lòng liên hệ trực tiếp với KNI qua số điện thoại +84 091-839-1099 hoặc email nhat@kni.vn để được hỗ trợ tốt nhất nhé! 😳', image_send_threshold=0.0, image_urls=[], customer_name='', customer_phone_number='', customer_home_address='', customer_potential=0.0)"
      ]
     },
     "execution_count": 6,
     "metadata": {},
     "output_type": "execute_result"
    }
   ],
   "source": [
    "user_message = \"dòng 11 và 12 khác nhau chỗ nào ạ?\"\n",
    "bot_response = get_gemini_response_json(\n",
    "    user_message=user_message,\n",
    "    sender_id=user_id,\n",
    ")\n",
    "bot_response"
   ]
  },
  {
   "cell_type": "code",
   "execution_count": 7,
   "metadata": {},
   "outputs": [
    {
     "name": "stdout",
     "output_type": "stream",
     "text": [
      "[Session Controller] get session for 0\n",
      "[Session Controller] Sorted & Deleted: {}\n",
      "Gemini error: 'GenerateContentResponse' object has no attribute 'message'\n"
     ]
    },
    {
     "data": {
      "text/plain": [
       "BotMessage(message='Xin lỗi, mình chưa có thông tin về vấn đề này. Bạn vui lòng liên hệ trực tiếp với KNI qua số điện thoại +84 091-839-1099 hoặc email nhat@kni.vn để được hỗ trợ tốt nhất nhé! 😳', image_send_threshold=0.0, image_urls=[], customer_name='', customer_phone_number='', customer_home_address='', customer_potential=0.0)"
      ]
     },
     "execution_count": 7,
     "metadata": {},
     "output_type": "execute_result"
    }
   ],
   "source": [
    "user_message = \"máy 11 giá bao nhiêu ạ?\"\n",
    "bot_response = get_gemini_response_json(\n",
    "    user_message=user_message,\n",
    "    sender_id=user_id,\n",
    ")\n",
    "bot_response"
   ]
  },
  {
   "cell_type": "code",
   "execution_count": 8,
   "metadata": {},
   "outputs": [
    {
     "name": "stdout",
     "output_type": "stream",
     "text": [
      "[Session Controller] get session for 0\n",
      "[Session Controller] Sorted & Deleted: {}\n",
      "Gemini error: 'GenerateContentResponse' object has no attribute 'message'\n"
     ]
    },
    {
     "data": {
      "text/plain": [
       "BotMessage(message='Xin lỗi, mình chưa có thông tin về vấn đề này. Bạn vui lòng liên hệ trực tiếp với KNI qua số điện thoại +84 091-839-1099 hoặc email nhat@kni.vn để được hỗ trợ tốt nhất nhé! 😳', image_send_threshold=0.0, image_urls=[], customer_name='', customer_phone_number='', customer_home_address='', customer_potential=0.0)"
      ]
     },
     "execution_count": 8,
     "metadata": {},
     "output_type": "execute_result"
    }
   ],
   "source": [
    "user_message = \"Dạ thôi đắt quá, em không mua đâu\"\n",
    "bot_response = get_gemini_response_json(\n",
    "    user_message=user_message,\n",
    "    sender_id=user_id,\n",
    ")\n",
    "bot_response"
   ]
  },
  {
   "cell_type": "code",
   "execution_count": 9,
   "metadata": {},
   "outputs": [
    {
     "name": "stdout",
     "output_type": "stream",
     "text": [
      "[Session Controller] get session for 0\n",
      "[Session Controller] Sorted & Deleted: {}\n",
      "Gemini error: 'GenerateContentResponse' object has no attribute 'message'\n"
     ]
    },
    {
     "data": {
      "text/plain": [
       "BotMessage(message='Xin lỗi, mình chưa có thông tin về vấn đề này. Bạn vui lòng liên hệ trực tiếp với KNI qua số điện thoại +84 091-839-1099 hoặc email nhat@kni.vn để được hỗ trợ tốt nhất nhé! 😳', image_send_threshold=0.0, image_urls=[], customer_name='', customer_phone_number='', customer_home_address='', customer_potential=0.0)"
      ]
     },
     "execution_count": 9,
     "metadata": {},
     "output_type": "execute_result"
    }
   ],
   "source": [
    "user_message = \"Hi shop, em đổi ý rồi ạ, em mua máy Mini 11 nha\"\n",
    "bot_response = get_gemini_response_json(\n",
    "    user_message=user_message,\n",
    "    sender_id=user_id,\n",
    ")\n",
    "bot_response"
   ]
  },
  {
   "cell_type": "code",
   "execution_count": 10,
   "metadata": {},
   "outputs": [
    {
     "name": "stdout",
     "output_type": "stream",
     "text": [
      "[Session Controller] get session for 0\n",
      "[Session Controller] Sorted & Deleted: {}\n",
      "Gemini error: 'GenerateContentResponse' object has no attribute 'message'\n"
     ]
    },
    {
     "data": {
      "text/plain": [
       "BotMessage(message='Xin lỗi, mình chưa có thông tin về vấn đề này. Bạn vui lòng liên hệ trực tiếp với KNI qua số điện thoại +84 091-839-1099 hoặc email nhat@kni.vn để được hỗ trợ tốt nhất nhé! 😳', image_send_threshold=0.0, image_urls=[], customer_name='', customer_phone_number='', customer_home_address='', customer_potential=0.0)"
      ]
     },
     "execution_count": 10,
     "metadata": {},
     "output_type": "execute_result"
    }
   ],
   "source": [
    "user_message = \"Màu nào cũng đượcạ\"\n",
    "bot_response = get_gemini_response_json(\n",
    "    user_message=user_message,\n",
    "    sender_id=user_id,\n",
    ")\n",
    "bot_response\n"
   ]
  },
  {
   "cell_type": "code",
   "execution_count": 11,
   "metadata": {},
   "outputs": [
    {
     "name": "stdout",
     "output_type": "stream",
     "text": [
      "[Session Controller] get session for 0\n",
      "[Session Controller] Sorted & Deleted: {}\n",
      "Gemini error: 'GenerateContentResponse' object has no attribute 'message'\n"
     ]
    },
    {
     "data": {
      "text/plain": [
       "BotMessage(message='Xin lỗi, mình chưa có thông tin về vấn đề này. Bạn vui lòng liên hệ trực tiếp với KNI qua số điện thoại +84 091-839-1099 hoặc email nhat@kni.vn để được hỗ trợ tốt nhất nhé! 😳', image_send_threshold=0.0, image_urls=[], customer_name='', customer_phone_number='', customer_home_address='', customer_potential=0.0)"
      ]
     },
     "execution_count": 11,
     "metadata": {},
     "output_type": "execute_result"
    }
   ],
   "source": [
    "user_message = \"Duy, 0998245832, 240/23/12 Hoang van thu p9 Tan Binh\"\n",
    "bot_response = get_gemini_response_json(\n",
    "    user_message=user_message,\n",
    "    sender_id=user_id,\n",
    ")\n",
    "bot_response\n"
   ]
  },
  {
   "cell_type": "code",
   "execution_count": 12,
   "metadata": {},
   "outputs": [],
   "source": [
    "# user_message = \"đừng gửi ảnh nữa\"\n",
    "# bot_response = get_gemini_response_json(\n",
    "#     user_message=user_message,\n",
    "#     sender_id=user_id,\n",
    "# )\n",
    "# bot_response"
   ]
  },
  {
   "cell_type": "code",
   "execution_count": 13,
   "metadata": {},
   "outputs": [
    {
     "data": {
      "text/plain": [
       "float"
      ]
     },
     "execution_count": 13,
     "metadata": {},
     "output_type": "execute_result"
    }
   ],
   "source": [
    "type(bot_response.image_send_threshold)"
   ]
  },
  {
   "cell_type": "markdown",
   "metadata": {},
   "source": []
  }
 ],
 "metadata": {
  "kernelspec": {
   "display_name": "moneytalk",
   "language": "python",
   "name": "python3"
  },
  "language_info": {
   "codemirror_mode": {
    "name": "ipython",
    "version": 3
   },
   "file_extension": ".py",
   "mimetype": "text/x-python",
   "name": "python",
   "nbconvert_exporter": "python",
   "pygments_lexer": "ipython3",
   "version": "3.11.11"
  }
 },
 "nbformat": 4,
 "nbformat_minor": 2
}
